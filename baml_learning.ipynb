{
 "cells": [
  {
   "cell_type": "markdown",
   "metadata": {},
   "source": "# Learning BAML (Boundary Markup Language)\n\nBAML is a domain-specific language for defining AI functions and prompts in a structured way. It's designed to make working with Large Language Models more predictable and maintainable.\n\n## Setup and Installation\n\nLet's start by installing the required packages to work with BAML in this notebook.",
   "outputs": []
  },
  {
   "cell_type": "code",
   "source": "# Install BAML Python client and dependencies\n!pip install baml-py\n!pip install openai anthropic\n!pip install python-dotenv\n\nprint(\"✅ BAML and dependencies installed successfully!\")",
   "metadata": {},
   "outputs": []
  },
  {
   "cell_type": "code",
   "source": "# Set up environment variables for API keys\nimport os\nfrom dotenv import load_dotenv\n\n# Load environment variables from .env file if it exists\nload_dotenv()\n\n# You'll need to set these API keys in your environment or .env file\n# Create a .env file in your project directory with:\n# OPENAI_API_KEY=your_openai_api_key_here\n# ANTHROPIC_API_KEY=your_anthropic_api_key_here\n\nprint(\"Environment setup complete!\")\nprint(f\"OpenAI API key configured: {'✅' if os.getenv('OPENAI_API_KEY') else '❌'}\")\nprint(f\"Anthropic API key configured: {'✅' if os.getenv('ANTHROPIC_API_KEY') else '❌'}\")\n\nif not os.getenv('OPENAI_API_KEY') and not os.getenv('ANTHROPIC_API_KEY'):\n    print(\"\\n⚠️  No API keys found. Please set up your API keys in a .env file or environment variables.\")",
   "metadata": {},
   "outputs": []
  },
  {
   "cell_type": "markdown",
   "source": "## What is BAML?\n\nBAML (Boundary Markup Language) is a configuration language that allows you to:\n- Define structured prompts and AI functions\n- Specify input/output schemas\n- Configure different AI models and providers\n- Create reusable templates and components\n\n## Key Concepts\n\n1. **Functions**: Define AI operations with inputs and outputs\n2. **Classes**: Define structured data types\n3. **Enums**: Define constrained choice values\n4. **Clients**: Configure AI model providers\n5. **Templates**: Reusable prompt components\n\n## Exercise 1: Create Your First BAML File\n\nLet's create a simple BAML configuration file to get started.",
   "metadata": {}
  },
  {
   "cell_type": "code",
   "source": "# Create a basic BAML configuration file\nbaml_config = \"\"\"\n// Define a simple enum for sentiment analysis\nenum Sentiment {\n  POSITIVE\n  NEGATIVE\n  NEUTRAL\n}\n\n// Define a client for OpenAI\nclient<llm> GPT4 {\n  provider openai\n  options {\n    model \"gpt-4\"\n    api_key env.OPENAI_API_KEY\n    max_tokens 100\n    temperature 0.1\n  }\n}\n\n// Define a simple sentiment analysis function\nfunction AnalyzeSentiment(input: string) -> Sentiment {\n  client GPT4\n  prompt #\"\n    Analyze the sentiment of the following text and return one of: POSITIVE, NEGATIVE, or NEUTRAL.\n    \n    Text: {{ input }}\n    \n    Return only the sentiment classification.\n  \"#\n}\n\"\"\"\n\n# Write the BAML file\nwith open('sentiment_analysis.baml', 'w') as f:\n    f.write(baml_config)\n\nprint(\"✅ Created sentiment_analysis.baml file!\")\nprint(\"\\nContent:\")\nprint(baml_config)",
   "metadata": {},
   "outputs": []
  },
  {
   "cell_type": "code",
   "source": "# Generate Python code from BAML\nimport subprocess\nimport sys\n\ntry:\n    # Initialize BAML project (this creates the necessary files)\n    result = subprocess.run([sys.executable, '-m', 'baml_py', 'init'], \n                          capture_output=True, text=True, cwd='.')\n    print(\"BAML initialization output:\", result.stdout)\n    if result.stderr:\n        print(\"Warnings/Errors:\", result.stderr)\n    \n    # Generate code from our BAML file\n    result = subprocess.run([sys.executable, '-m', 'baml_py', 'generate'], \n                          capture_output=True, text=True, cwd='.')\n    print(\"✅ Generated Python code from BAML!\")\n    \nexcept Exception as e:\n    print(f\"⚠️  Note: You may need to run `baml init` and `baml generate` manually in your terminal\")\n    print(f\"Error: {e}\")",
   "metadata": {},
   "outputs": []
  },
  {
   "cell_type": "markdown",
   "source": "## Exercise 2: Test Your First BAML Function\n\nNow let's test our sentiment analysis function with some sample text.",
   "metadata": {}
  },
  {
   "cell_type": "code",
   "source": "# Test the sentiment analysis function\n# Note: This assumes BAML has generated the Python client code\n\nimport asyncio\n\n# Sample function to simulate BAML function (replace with actual generated code)\nasync def test_sentiment_analysis():\n    # Test cases\n    test_texts = [\n        \"I absolutely love this product! It's amazing!\",\n        \"This is terrible and I hate it.\",\n        \"The weather is okay today, nothing special.\",\n        \"Best purchase I've ever made!\",\n        \"Worst experience ever, very disappointed.\"\n    ]\n    \n    print(\"🧪 Testing Sentiment Analysis Function\")\n    print(\"=\" * 50)\n    \n    for i, text in enumerate(test_texts, 1):\n        print(f\"\\nTest {i}:\")\n        print(f\"Text: {text}\")\n        \n        # Simulate sentiment analysis (replace with actual BAML function call)\n        # result = await AnalyzeSentiment(text)\n        \n        # For demonstration, we'll use a simple mock\n        if \"love\" in text.lower() or \"amazing\" in text.lower() or \"best\" in text.lower():\n            sentiment = \"POSITIVE\"\n        elif \"hate\" in text.lower() or \"terrible\" in text.lower() or \"worst\" in text.lower():\n            sentiment = \"NEGATIVE\"\n        else:\n            sentiment = \"NEUTRAL\"\n            \n        print(f\"Predicted Sentiment: {sentiment}\")\n        print(\"-\" * 30)\n\n# Run the test\nawait test_sentiment_analysis()\n\nprint(\"\\n✅ Sentiment analysis test completed!\")\nprint(\"\\n💡 Tip: Replace the mock logic above with actual BAML function calls once code generation is working.\")",
   "metadata": {},
   "outputs": []
  },
  {
   "cell_type": "markdown",
   "source": "## Exercise 3: Data Extraction with Complex Types\n\nLet's create a more complex BAML function that extracts structured data from text.",
   "metadata": {}
  },
  {
   "cell_type": "code",
   "source": "# Create a more complex BAML file with structured data extraction\ncomplex_baml = \"\"\"\n// Define structured data types\nclass Person {\n  name string\n  age int?\n  email string?\n  phone string?\n  occupation string?\n}\n\nclass Contact {\n  person Person\n  company string?\n  address string?\n  relationship string?\n}\n\nenum Priority {\n  LOW\n  MEDIUM\n  HIGH\n  URGENT\n}\n\nclass Task {\n  title string\n  description string\n  priority Priority\n  estimated_hours float?\n  tags string[]\n  assignee string?\n}\n\n// Client configuration\nclient<llm> GPT4 {\n  provider openai\n  options {\n    model \"gpt-4\"\n    api_key env.OPENAI_API_KEY\n    max_tokens 500\n    temperature 0.1\n  }\n}\n\n// Function to extract contact information\nfunction ExtractContact(text: string) -> Contact {\n  client GPT4\n  prompt #\"\n    Extract contact information from the following text. Return structured data.\n    \n    Text: {{ text }}\n    \n    Extract:\n    - Person details (name, age, email, phone, occupation)\n    - Company information\n    - Address if mentioned\n    - Relationship context\n    \n    If information is not available, leave those fields empty or null.\n  \"#\n}\n\n// Function to create a task from description\nfunction CreateTask(description: string) -> Task {\n  client GPT4\n  prompt #\"\n    Convert this description into a structured task:\n    \n    Description: {{ description }}\n    \n    Create a task with:\n    - Clear title\n    - Detailed description\n    - Priority level (LOW, MEDIUM, HIGH, URGENT)\n    - Estimated hours (reasonable estimate)\n    - Relevant tags\n    - Suggested assignee if mentioned\n  \"#\n}\n\"\"\"\n\n# Write the complex BAML file\nwith open('data_extraction.baml', 'w') as f:\n    f.write(complex_baml)\n\nprint(\"✅ Created data_extraction.baml file!\")\nprint(\"\\nThis file defines:\")\nprint(\"- Complex data structures (Person, Contact, Task)\")\nprint(\"- Enums for constrained values (Priority)\")\nprint(\"- Functions for structured data extraction\")\nprint(\"- Optional fields using '?' notation\")",
   "metadata": {},
   "outputs": []
  },
  {
   "cell_type": "code",
   "source": "# Test data extraction functions\nasync def test_data_extraction():\n    print(\"🧪 Testing Data Extraction Functions\")\n    print(\"=\" * 50)\n    \n    # Test contact extraction\n    contact_text = \"\"\"\n    Hi, I'm Sarah Johnson, a 32-year-old software engineer at TechCorp. \n    You can reach me at sarah.j@techcorp.com or call me at (555) 123-4567. \n    I work at our headquarters at 123 Tech Street, San Francisco, CA. \n    I'm the lead developer on the AI team.\n    \"\"\"\n    \n    print(\"📧 Contact Extraction Test:\")\n    print(f\"Input: {contact_text}\")\n    \n    # Mock extracted contact (replace with actual BAML function call)\n    mock_contact = {\n        \"person\": {\n            \"name\": \"Sarah Johnson\",\n            \"age\": 32,\n            \"email\": \"sarah.j@techcorp.com\",\n            \"phone\": \"(555) 123-4567\",\n            \"occupation\": \"Software Engineer\"\n        },\n        \"company\": \"TechCorp\",\n        \"address\": \"123 Tech Street, San Francisco, CA\",\n        \"relationship\": \"Lead Developer on AI team\"\n    }\n    \n    print(f\"Extracted Contact: {mock_contact}\")\n    print(\"-\" * 50)\n    \n    # Test task creation\n    task_description = \"\"\"\n    We need to implement a new user authentication system with OAuth2 support. \n    This is critical for our Q1 launch and should be assigned to the security team. \n    Estimated to take about 40 hours of development work.\n    \"\"\"\n    \n    print(\"\\n📋 Task Creation Test:\")\n    print(f\"Input: {task_description}\")\n    \n    # Mock created task (replace with actual BAML function call)\n    mock_task = {\n        \"title\": \"Implement OAuth2 Authentication System\",\n        \"description\": \"Implement a new user authentication system with OAuth2 support for Q1 launch\",\n        \"priority\": \"HIGH\",\n        \"estimated_hours\": 40.0,\n        \"tags\": [\"authentication\", \"oauth2\", \"security\", \"Q1\"],\n        \"assignee\": \"Security Team\"\n    }\n    \n    print(f\"Created Task: {mock_task}\")\n    \n    return mock_contact, mock_task\n\n# Run the test\ncontact_result, task_result = await test_data_extraction()\n\nprint(\"\\n✅ Data extraction tests completed!\")\nprint(\"\\n💡 Tips for real implementation:\")\nprint(\"1. Replace mock data with actual BAML function calls\")\nprint(\"2. Add error handling for malformed responses\")\nprint(\"3. Validate extracted data against your schemas\")",
   "metadata": {},
   "outputs": []
  },
  {
   "cell_type": "markdown",
   "source": "## Exercise 4: Function Composition and Templates\n\nLearn how to create reusable templates and compose multiple BAML functions together.",
   "metadata": {}
  },
  {
   "cell_type": "code",
   "source": "# Create BAML file with templates and function composition\ncomposition_baml = \"\"\"\n// Templates for reusable prompt components\ntemplate SystemMessage(role: string) #\"\n  You are a helpful {{ role }}. Always be professional, accurate, and concise.\n\"#\n\ntemplate OutputFormat(format_type: string) #\"\n  {% if format_type == \"json\" %}\n  Return the result as valid JSON format.\n  {% elif format_type == \"list\" %}\n  Return the result as a numbered list.\n  {% else %}\n  Return the result in plain text format.\n  {% endif %}\n\"#\n\n// Data types for email analysis\nenum EmailCategory {\n  SUPPORT_REQUEST\n  SALES_INQUIRY\n  COMPLAINT\n  COMPLIMENT\n  SPAM\n  OTHER\n}\n\nclass EmailAnalysis {\n  category EmailCategory\n  sentiment string\n  priority string\n  summary string\n  suggested_response string\n}\n\n// Client configuration\nclient<llm> GPT4 {\n  provider openai\n  options {\n    model \"gpt-4\"\n    api_key env.OPENAI_API_KEY\n    max_tokens 800\n    temperature 0.2\n  }\n}\n\n// Basic sentiment analysis (reused from earlier)\nfunction AnalyzeSentiment(text: string) -> string {\n  client GPT4\n  prompt #\"\n    {{ SystemMessage(\"sentiment analyzer\") }}\n    \n    Analyze the sentiment of this text: {{ text }}\n    \n    Return one of: POSITIVE, NEGATIVE, NEUTRAL\n  \"#\n}\n\n// Email categorization\nfunction CategorizeEmail(email_content: string) -> EmailCategory {\n  client GPT4\n  prompt #\"\n    {{ SystemMessage(\"email classifier\") }}\n    \n    Categorize this email into one of the following categories:\n    - SUPPORT_REQUEST: Customer needs help or assistance\n    - SALES_INQUIRY: Potential customer asking about products/services\n    - COMPLAINT: Customer expressing dissatisfaction\n    - COMPLIMENT: Customer praising products/services\n    - SPAM: Unsolicited or promotional content\n    - OTHER: Doesn't fit other categories\n    \n    Email content: {{ email_content }}\n    \n    {{ OutputFormat(\"json\") }}\n  \"#\n}\n\n// Comprehensive email analysis using composition\nfunction AnalyzeEmail(email_content: string) -> EmailAnalysis {\n  client GPT4\n  prompt #\"\n    {{ SystemMessage(\"email analyst\") }}\n    \n    Analyze this email comprehensively:\n    \n    Email: {{ email_content }}\n    \n    Based on the analysis:\n    - Category: {{ CategorizeEmail(email_content) }}\n    - Sentiment: {{ AnalyzeSentiment(email_content) }}\n    \n    Now provide:\n    1. Priority level (LOW, MEDIUM, HIGH, URGENT)\n    2. Brief summary of the email\n    3. Suggested response strategy\n    \n    {{ OutputFormat(\"json\") }}\n  \"#\n}\n\"\"\"\n\n# Write the composition BAML file\nwith open('email_analysis.baml', 'w') as f:\n    f.write(composition_baml)\n\nprint(\"✅ Created email_analysis.baml file!\")\nprint(\"\\nThis file demonstrates:\")\nprint(\"- Reusable templates (SystemMessage, OutputFormat)\")\nprint(\"- Function composition (AnalyzeEmail uses other functions)\")\nprint(\"- Template logic with conditional formatting\")\nprint(\"- Complex return types with multiple fields\")",
   "metadata": {},
   "outputs": []
  },
  {
   "cell_type": "code",
   "source": "# Test email analysis with function composition\nasync def test_email_analysis():\n    print(\"🧪 Testing Email Analysis with Function Composition\")\n    print(\"=\" * 60)\n    \n    # Sample emails for testing\n    test_emails = [\n        {\n            \"subject\": \"Product not working - urgent help needed!\",\n            \"content\": \"\"\"\n            Hi there,\n            \n            I purchased your premium software last week and it's completely broken! \n            Every time I try to upload a file, it crashes. This is really frustrating \n            because I have a deadline tomorrow. Please help me fix this immediately!\n            \n            Thanks,\n            John Smith\n            \"\"\"\n        },\n        {\n            \"subject\": \"Interested in enterprise plan\",\n            \"content\": \"\"\"\n            Hello,\n            \n            I represent ABC Corp and we're interested in your enterprise plan for \n            our team of 50 developers. Could you please send me pricing information \n            and schedule a demo? We're looking to make a decision within the next month.\n            \n            Best regards,\n            Sarah Wilson\n            Director of Engineering\n            \"\"\"\n        },\n        {\n            \"subject\": \"Thank you for excellent service!\",\n            \"content\": \"\"\"\n            Hi,\n            \n            I just wanted to reach out and say how impressed I am with your customer \n            service. The support team helped me resolve my issue within hours, and \n            your product has been working flawlessly ever since. Keep up the great work!\n            \n            Sincerely,\n            Mike Johnson\n            \"\"\"\n        }\n    ]\n    \n    for i, email in enumerate(test_emails, 1):\n        print(f\"\\n📧 Email {i}: {email['subject']}\")\n        print(f\"Content: {email['content'][:100]}...\")\n        \n        # Mock analysis results (replace with actual BAML function calls)\n        if \"broken\" in email['content'].lower() or \"urgent\" in email['content'].lower():\n            mock_analysis = {\n                \"category\": \"SUPPORT_REQUEST\",\n                \"sentiment\": \"NEGATIVE\",\n                \"priority\": \"URGENT\",\n                \"summary\": \"Customer experiencing critical software issue with file upload crashes\",\n                \"suggested_response\": \"Immediate escalation to technical support team, provide workaround solutions\"\n            }\n        elif \"interested\" in email['content'].lower() or \"pricing\" in email['content'].lower():\n            mock_analysis = {\n                \"category\": \"SALES_INQUIRY\",\n                \"sentiment\": \"NEUTRAL\",\n                \"priority\": \"HIGH\",\n                \"summary\": \"Enterprise sales inquiry from ABC Corp for 50-user license\",\n                \"suggested_response\": \"Forward to sales team, schedule demo, provide enterprise pricing\"\n            }\n        else:\n            mock_analysis = {\n                \"category\": \"COMPLIMENT\",\n                \"sentiment\": \"POSITIVE\",\n                \"priority\": \"LOW\",\n                \"summary\": \"Customer praising product quality and customer service\",\n                \"suggested_response\": \"Thank customer, share feedback with team, offer loyalty program\"\n            }\n        \n        print(f\"Analysis Result:\")\n        for key, value in mock_analysis.items():\n            print(f\"  {key.replace('_', ' ').title()}: {value}\")\n        \n        print(\"-\" * 50)\n    \n    return \"Analysis completed\"\n\n# Run the test\nresult = await test_email_analysis()\n\nprint(f\"\\n✅ {result}!\")\nprint(\"\\n💡 Key Benefits of Function Composition:\")\nprint(\"1. Reusability: Templates can be used across multiple functions\")\nprint(\"2. Modularity: Break complex tasks into smaller, testable functions\")\nprint(\"3. Consistency: Standardized prompts and output formats\")\nprint(\"4. Maintainability: Update templates to affect multiple functions\")",
   "metadata": {},
   "outputs": []
  },
  {
   "cell_type": "markdown",
   "source": "## Exercise 5: Your Turn - Create a Custom BAML Function\n\nNow it's your turn! Create your own BAML function for a use case of your choice.",
   "metadata": {}
  },
  {
   "cell_type": "code",
   "source": "# Create your own BAML function\n# Choose from these ideas or create your own:\n\ndef create_custom_baml(use_case):\n    \\\"\\\"\\\"\n    Helper function to generate BAML templates for different use cases\n    \\\"\\\"\\\"\n    \n    templates = {\n        \"code_review\": '''\n// Code Review Assistant\nclass CodeIssue {\n  type string\n  severity string\n  line_number int?\n  description string\n  suggestion string\n}\n\nclass CodeReview {\n  overall_score int\n  issues CodeIssue[]\n  summary string\n  recommendations string[]\n}\n\nfunction ReviewCode(code: string, language: string) -> CodeReview {\n  client GPT4\n  prompt #\"\n    Review this {{ language }} code for issues:\n    \n    {{ code }}\n    \n    Analyze for:\n    - Syntax errors\n    - Performance issues\n    - Security vulnerabilities\n    - Code style problems\n    - Best practice violations\n    \n    Provide structured feedback with specific suggestions.\n  \"#\n}\n        ''',\n        \n        \"recipe_generator\": '''\n// Recipe Generator\nenum DietaryRestriction {\n  NONE\n  VEGETARIAN\n  VEGAN\n  GLUTEN_FREE\n  KETO\n  PALEO\n}\n\nclass Ingredient {\n  name string\n  amount string\n  unit string\n}\n\nclass Recipe {\n  name string\n  description string\n  prep_time_minutes int\n  cook_time_minutes int\n  servings int\n  ingredients Ingredient[]\n  instructions string[]\n  difficulty_level string\n}\n\nfunction GenerateRecipe(ingredients: string[], dietary_restrictions: DietaryRestriction) -> Recipe {\n  client GPT4\n  prompt #\"\n    Create a recipe using these ingredients: {{ ingredients | join(\", \") }}\n    \n    Dietary restrictions: {{ dietary_restrictions }}\n    \n    Generate a complete recipe with:\n    - Creative name\n    - Description\n    - Prep and cook times\n    - Detailed ingredients list with amounts\n    - Step-by-step instructions\n    - Difficulty level (Easy, Medium, Hard)\n  \"#\n}\n        ''',\n        \n        \"meeting_summary\": '''\n// Meeting Summary Generator\nenum ActionItemStatus {\n  PENDING\n  IN_PROGRESS\n  COMPLETED\n}\n\nclass ActionItem {\n  task string\n  assignee string\n  due_date string?\n  priority string\n  status ActionItemStatus\n}\n\nclass MeetingOutcome {\n  title string\n  summary string\n  key_decisions string[]\n  action_items ActionItem[]\n  next_meeting_date string?\n  attendees string[]\n}\n\nfunction SummarizeMeeting(transcript: string) -> MeetingOutcome {\n  client GPT4\n  prompt #\"\n    Analyze this meeting transcript and create a structured summary:\n    \n    {{ transcript }}\n    \n    Extract:\n    - Meeting title/topic\n    - Key discussion points\n    - Decisions made\n    - Action items with assignees\n    - Next steps\n    - Attendee list\n  \"#\n}\n        '''\n    }\n    \n    return templates.get(use_case, \"# Create your custom BAML function here\")\n\n# Interactive section - choose your use case\nprint(\"🎯 Choose a use case for your custom BAML function:\")\nprint(\"1. code_review - Automated code review assistant\")\nprint(\"2. recipe_generator - AI recipe creator\")\nprint(\"3. meeting_summary - Meeting transcript analyzer\")\nprint(\"4. custom - Write your own from scratch\")\n\n# For demonstration, let's create all three examples\nuse_cases = [\"code_review\", \"recipe_generator\", \"meeting_summary\"]\n\nfor use_case in use_cases:\n    baml_content = create_custom_baml(use_case)\n    filename = f\"{use_case}.baml\"\n    \n    with open(filename, 'w') as f:\n        f.write(baml_content)\n    \n    print(f\"✅ Created {filename}\")\n\nprint(\"\\n📝 Your Task:\")\nprint(\"1. Choose one of the generated BAML files\")\nprint(\"2. Modify it to fit your specific needs\")\nprint(\"3. Test it with sample data\")\nprint(\"4. Or create a completely new BAML function!\")\n\n# Example of how to modify and test\nprint(\"\\n💡 Example modifications you could make:\")\nprint(\"- Add more fields to the data structures\")\nprint(\"- Include additional validation rules\")\nprint(\"- Create more specific prompts\")\nprint(\"- Add error handling scenarios\")\nprint(\"- Combine multiple functions together\")",
   "metadata": {},
   "outputs": []
  },
  {
   "cell_type": "markdown",
   "source": "## Best Practices and Production Tips\n\nBefore you start using BAML in production, here are some important best practices to follow.",
   "metadata": {}
  },
  {
   "cell_type": "code",
   "source": "# Production Best Practices for BAML\n\ndef demonstrate_best_practices():\n    print(\"🏆 BAML Production Best Practices\")\n    print(\"=\" * 50)\n    \n    practices = {\n        \"1. Environment Management\": [\n            \"Use different API keys for dev/staging/production\",\n            \"Store sensitive keys in environment variables\",\n            \"Use .env files for local development\",\n            \"Implement proper secret management in production\"\n        ],\n        \n        \"2. Error Handling\": [\n            \"Always handle API failures gracefully\",\n            \"Implement retry logic for transient failures\",\n            \"Validate AI responses against your schemas\",\n            \"Have fallback responses for critical functions\"\n        ],\n        \n        \"3. Cost Optimization\": [\n            \"Set appropriate max_tokens limits\",\n            \"Use temperature settings wisely\",\n            \"Choose the right model for each task\",\n            \"Cache responses when possible\"\n        ],\n        \n        \"4. Testing\": [\n            \"Test functions with various input types\",\n            \"Create unit tests for critical functions\",\n            \"Test edge cases and malformed inputs\",\n            \"Use BAML's testing tools and playground\"\n        ],\n        \n        \"5. Monitoring\": [\n            \"Log API usage and costs\",\n            \"Monitor response times and failures\",\n            \"Track model performance over time\",\n            \"Set up alerts for anomalies\"\n        ],\n        \n        \"6. Security\": [\n            \"Never log sensitive data in prompts\",\n            \"Sanitize user inputs\",\n            \"Implement rate limiting\",\n            \"Use least privilege for API keys\"\n        ]\n    }\n    \n    for category, tips in practices.items():\n        print(f\"\\n{category}:\")\n        for tip in tips:\n            print(f\"  • {tip}\")\n    \n    return practices\n\n# Example production-ready BAML configuration\nproduction_config = '''\n// Production BAML Configuration Example\n\n// Use environment-specific configurations\nclient<llm> ProductionGPT {\n  provider openai\n  options {\n    model \"gpt-4\"\n    api_key env.OPENAI_PROD_API_KEY\n    max_tokens 500\n    temperature 0.1\n    timeout 30000\n  }\n}\n\nclient<llm> FallbackClaude {\n  provider anthropic\n  options {\n    model \"claude-3-sonnet-20240229\"\n    api_key env.ANTHROPIC_PROD_API_KEY\n    max_tokens 500\n    temperature 0.1\n  }\n}\n\n// Production function with error handling considerations\nfunction ProcessUserInput(input: string) -> string {\n  client ProductionGPT\n  prompt #\"\n    Process this user input safely and professionally.\n    \n    Input: {{ input }}\n    \n    Rules:\n    - Do not repeat any sensitive information\n    - Maintain professional tone\n    - Keep responses under 200 words\n    - If input seems malicious, return \"Invalid input\"\n  \"#\n}\n'''\n\npractices = demonstrate_best_practices()\n\nprint(\"\\n\" + \"=\" * 50)\nprint(\"📋 Production Configuration Example:\")\nprint(production_config)\n\nprint(\"\\n💡 Quick Setup Checklist:\")\nchecklist = [\n    \"✅ Install BAML: pip install baml-py\",\n    \"✅ Set up API keys in .env file\",\n    \"✅ Create your first .baml file\",\n    \"✅ Run baml generate to create Python client\",\n    \"✅ Test functions with sample data\",\n    \"✅ Implement error handling\",\n    \"✅ Deploy to production with monitoring\"\n]\n\nfor item in checklist:\n    print(f\"  {item}\")\n    \nprint(\"\\n🎉 You're ready to use BAML in your projects!\")",
   "metadata": {},
   "outputs": []
  },
  {
   "cell_type": "markdown",
   "source": "## Next Steps and Resources\n\nCongratulations! You've learned the fundamentals of BAML. Here are your next steps:\n\n### Immediate Actions\n1. **Set up your environment** - Install BAML and configure API keys\n2. **Try the exercises** - Run the code cells above with real API keys\n3. **Create your first project** - Pick a use case and build it\n\n### Learning Resources\n- [Official BAML Documentation](https://docs.boundaryml.com)\n- [GitHub Repository](https://github.com/BoundaryML/baml)\n- [Community Discord](https://discord.gg/boundaryml)\n- [Examples and Tutorials](https://docs.boundaryml.com/docs/examples)\n\n### Advanced Topics to Explore\n- **Streaming responses** for real-time applications\n- **Batch processing** for high-volume workloads\n- **Custom providers** for specialized AI models\n- **Testing frameworks** for BAML functions\n- **Deployment patterns** for production systems\n\n### Community and Support\n- Join the Discord community for help and discussions\n- Check out the GitHub issues for common problems\n- Contribute examples and improvements back to the project\n\nHappy coding with BAML! 🚀",
   "metadata": {}
  },
  {
   "cell_type": "markdown",
   "metadata": {},
   "source": [
    "## Basic BAML Syntax\n",
    "\n",
    "### 1. Defining Classes (Data Structures)\n",
    "\n",
    "```baml\n",
    "class Person {\n",
    "  name string\n",
    "  age int\n",
    "  email string?\n",
    "  is_active bool\n",
    "}\n",
    "\n",
    "class Address {\n",
    "  street string\n",
    "  city string\n",
    "  country string\n",
    "  postal_code string\n",
    "}\n",
    "```\n",
    "\n",
    "### 2. Defining Enums\n",
    "\n",
    "```baml\n",
    "enum Sentiment {\n",
    "  POSITIVE\n",
    "  NEGATIVE\n",
    "  NEUTRAL\n",
    "}\n",
    "\n",
    "enum Priority {\n",
    "  LOW\n",
    "  MEDIUM\n",
    "  HIGH\n",
    "  URGENT\n",
    "}\n",
    "```"
   ]
  },
  {
   "cell_type": "markdown",
   "metadata": {},
   "source": [
    "### 3. Defining AI Functions\n",
    "\n",
    "```baml\n",
    "function AnalyzeSentiment(input: string) -> Sentiment {\n",
    "  client GPT4\n",
    "  prompt #\"\n",
    "    Analyze the sentiment of the following text and return one of: POSITIVE, NEGATIVE, or NEUTRAL.\n",
    "    \n",
    "    Text: {{ input }}\n",
    "    \n",
    "    Return only the sentiment classification.\n",
    "  \"#\n",
    "}\n",
    "\n",
    "function ExtractPersonInfo(text: string) -> Person {\n",
    "  client GPT4\n",
    "  prompt #\"\n",
    "    Extract person information from the following text.\n",
    "    \n",
    "    Text: {{ text }}\n",
    "    \n",
    "    Extract the person's name, age, email (if mentioned), and whether they seem active/engaged.\n",
    "    If information is not available, use appropriate defaults or null values.\n",
    "  \"#\n",
    "}\n",
    "```"
   ]
  },
  {
   "cell_type": "markdown",
   "metadata": {},
   "source": [
    "### 4. Configuring Clients (AI Models)\n",
    "\n",
    "```baml\n",
    "client<llm> GPT4 {\n",
    "  provider openai\n",
    "  options {\n",
    "    model \"gpt-4\"\n",
    "    api_key env.OPENAI_API_KEY\n",
    "    max_tokens 1000\n",
    "    temperature 0.1\n",
    "  }\n",
    "}\n",
    "\n",
    "client<llm> Claude {\n",
    "  provider anthropic\n",
    "  options {\n",
    "    model \"claude-3-sonnet-20240229\"\n",
    "    api_key env.ANTHROPIC_API_KEY\n",
    "    max_tokens 1000\n",
    "  }\n",
    "}\n",
    "```"
   ]
  },
  {
   "cell_type": "markdown",
   "metadata": {},
   "source": [
    "## Advanced Features\n",
    "\n",
    "### 1. Templates for Reusable Prompts\n",
    "\n",
    "```baml\n",
    "template SystemMessage(role: string) #\"\n",
    "  You are a helpful {{ role }}. Always be polite and professional.\n",
    "\"#\n",
    "\n",
    "function ClassifyDocument(document: string, categories: string[]) -> string {\n",
    "  client GPT4\n",
    "  prompt #\"\n",
    "    {{ SystemMessage(\"document classifier\") }}\n",
    "    \n",
    "    Classify the following document into one of these categories:\n",
    "    {{ categories | join(\", \") }}\n",
    "    \n",
    "    Document: {{ document }}\n",
    "    \n",
    "    Return only the category name.\n",
    "  \"#\n",
    "}\n",
    "```"
   ]
  },
  {
   "cell_type": "markdown",
   "metadata": {},
   "source": [
    "### 2. Complex Data Types\n",
    "\n",
    "```baml\n",
    "class TaskAnalysis {\n",
    "  summary string\n",
    "  priority Priority\n",
    "  estimated_hours float\n",
    "  tags string[]\n",
    "  assignee Person?\n",
    "  dependencies string[]\n",
    "}\n",
    "\n",
    "function AnalyzeTask(task_description: string) -> TaskAnalysis {\n",
    "  client GPT4\n",
    "  prompt #\"\n",
    "    Analyze the following task and extract structured information:\n",
    "    \n",
    "    Task: {{ task_description }}\n",
    "    \n",
    "    Provide:\n",
    "    - A brief summary\n",
    "    - Priority level (LOW, MEDIUM, HIGH, URGENT)\n",
    "    - Estimated hours to complete\n",
    "    - Relevant tags\n",
    "    - Dependencies (if any can be inferred)\n",
    "  \"#\n",
    "}\n",
    "```"
   ]
  },
  {
   "cell_type": "markdown",
   "metadata": {},
   "source": [
    "### 3. Function Chaining and Composition\n",
    "\n",
    "```baml\n",
    "function ProcessFeedback(feedback: string) -> string {\n",
    "  client GPT4\n",
    "  prompt #\"\n",
    "    Process this customer feedback and provide a professional response:\n",
    "    \n",
    "    Feedback: {{ feedback }}\n",
    "    Sentiment: {{ AnalyzeSentiment(feedback) }}\n",
    "    \n",
    "    Create a response that acknowledges the feedback and provides next steps.\n",
    "  \"#\n",
    "}\n",
    "```"
   ]
  },
  {
   "cell_type": "markdown",
   "metadata": {},
   "source": [
    "## Best Practices\n",
    "\n",
    "### 1. Clear and Specific Prompts\n",
    "- Be explicit about expected output format\n",
    "- Provide examples when helpful\n",
    "- Use clear, unambiguous language\n",
    "\n",
    "### 2. Type Safety\n",
    "- Define clear input/output schemas\n",
    "- Use optional fields (?) when data might not be available\n",
    "- Leverage enums for constrained choices\n",
    "\n",
    "### 3. Error Handling\n",
    "- Consider edge cases in your prompts\n",
    "- Provide fallback values\n",
    "- Test with various input types\n",
    "\n",
    "### 4. Performance\n",
    "- Choose appropriate models for different tasks\n",
    "- Set reasonable token limits\n",
    "- Use temperature settings effectively"
   ]
  },
  {
   "cell_type": "markdown",
   "metadata": {},
   "source": [
    "## Common Use Cases\n",
    "\n",
    "### 1. Data Extraction\n",
    "```baml\n",
    "function ExtractContactInfo(email: string) -> Person {\n",
    "  client GPT4\n",
    "  prompt #\"\n",
    "    Extract contact information from this email:\n",
    "    \n",
    "    {{ email }}\n",
    "    \n",
    "    Return the person's details in structured format.\n",
    "  \"#\n",
    "}\n",
    "```\n",
    "\n",
    "### 2. Content Classification\n",
    "```baml\n",
    "enum ContentType {\n",
    "  QUESTION\n",
    "  COMPLAINT\n",
    "  COMPLIMENT\n",
    "  REQUEST\n",
    "  OTHER\n",
    "}\n",
    "\n",
    "function ClassifyContent(content: string) -> ContentType {\n",
    "  client GPT4\n",
    "  prompt #\"\n",
    "    Classify this content: {{ content }}\n",
    "  \"#\n",
    "}\n",
    "```\n",
    "\n",
    "### 3. Content Generation\n",
    "```baml\n",
    "function GenerateResponse(inquiry: string, context: string) -> string {\n",
    "  client GPT4\n",
    "  prompt #\"\n",
    "    Generate a helpful response to this inquiry:\n",
    "    \n",
    "    Inquiry: {{ inquiry }}\n",
    "    Context: {{ context }}\n",
    "    \n",
    "    Be helpful, accurate, and professional.\n",
    "  \"#\n",
    "}\n",
    "```"
   ]
  },
  {
   "cell_type": "markdown",
   "metadata": {},
   "source": [
    "## Next Steps\n",
    "\n",
    "To start using BAML:\n",
    "\n",
    "1. **Install BAML**: Follow the installation guide for your language/platform\n",
    "2. **Set up API keys**: Configure your AI provider API keys\n",
    "3. **Create your first .baml file**: Start with simple functions\n",
    "4. **Test and iterate**: Use the BAML playground or testing tools\n",
    "5. **Integrate**: Use generated code in your applications\n",
    "\n",
    "## Resources\n",
    "\n",
    "- [BAML Documentation](https://docs.boundaryml.com)\n",
    "- [GitHub Repository](https://github.com/BoundaryML/baml)\n",
    "- [Examples and Tutorials](https://docs.boundaryml.com/docs/examples)\n",
    "- [Community Discord](https://discord.gg/boundaryml)"
   ]
  }
 ],
 "metadata": {
  "kernelspec": {
   "display_name": "Python 3",
   "language": "python",
   "name": "python3"
  },
  "language_info": {
   "codemirror_mode": {
    "name": "ipython",
    "version": 3
   },
   "file_extension": ".py",
   "mimetype": "text/x-python",
   "name": "python",
   "nbconvert_exporter": "python",
   "pygments_lexer": "ipython3",
   "version": "3.8.5"
  }
 },
 "nbformat": 4,
 "nbformat_minor": 4
}